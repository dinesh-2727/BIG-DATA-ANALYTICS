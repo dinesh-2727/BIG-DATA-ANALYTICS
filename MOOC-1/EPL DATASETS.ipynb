{
  "cells": [
    {
      "cell_type": "code",
      "source": [
        "from pyspark.sql import SparkSession\n",
        "from pyspark.sql.functions import col, sum as _sum, avg, when, count\n",
        "\n",
        "# Initialize Spark\n",
        "spark = SparkSession.builder.appName(\"EPL Analysis\").getOrCreate()\n",
        "\n",
        "# Load CSV into DataFrame\n",
        "df = spark.read.csv(\"EPL.csv\", header=True, inferSchema=True)\n",
        "df.createOrReplaceTempView(\"epl\")\n",
        "\n",
        "# Create RDD from DataFrame\n",
        "rdd = df.rdd"
      ],
      "metadata": {
        "id": "QAlHSrENZbmg"
      },
      "execution_count": 1,
      "outputs": []
    },
    {
      "cell_type": "code",
      "source": [
        "print(\"=== Sample RDD Data ===\")\n",
        "print(rdd.take(5))"
      ],
      "metadata": {
        "colab": {
          "base_uri": "https://localhost:8080/"
        },
        "id": "ZY7Oo82EamVh",
        "outputId": "1a093597-1e97-4d50-8b8b-bdb3e73e8740"
      },
      "execution_count": 2,
      "outputs": [
        {
          "output_type": "stream",
          "name": "stdout",
          "text": [
            "=== Sample RDD Data ===\n",
            "[Row(home_team='Sheffield United', away_team='Liverpool', home_goals=1.0, away_goals=1.0, result='D', season='2006-2007'), Row(home_team='Arsenal', away_team='Aston Villa', home_goals=1.0, away_goals=1.0, result='D', season='2006-2007'), Row(home_team='Everton', away_team='Watford', home_goals=2.0, away_goals=1.0, result='H', season='2006-2007'), Row(home_team='Newcastle United', away_team='Wigan Athletic', home_goals=2.0, away_goals=1.0, result='H', season='2006-2007'), Row(home_team='Portsmouth', away_team='Blackburn Rovers', home_goals=3.0, away_goals=0.0, result='H', season='2006-2007')]\n"
          ]
        }
      ]
    },
    {
      "cell_type": "code",
      "source": [
        "from pyspark.sql import SparkSession\n",
        "from pyspark.sql.functions import col, sum as _sum, expr\n",
        "\n",
        "# Start Spark\n",
        "spark = SparkSession.builder.appName(\"EPL Analysis\").getOrCreate()\n",
        "\n",
        "# Load the data\n",
        "df = spark.read.csv(\"EPL.csv\", header=True, inferSchema=True)\n",
        "\n",
        "# ✅ Concise and correct aggregation\n",
        "season_goals = df.groupBy(\"Season\").agg(expr(\"sum(home_goals + away_goals) as TotalGoals\"))\n",
        "season_goals_high = season_goals.orderBy(col(\"TotalGoals\").desc()).limit(1)\n",
        "\n",
        "# Show result\n",
        "season_goals_high.show()"
      ],
      "metadata": {
        "colab": {
          "base_uri": "https://localhost:8080/"
        },
        "id": "r9vA6YNva76u",
        "outputId": "bde4bb7a-2443-408b-f014-1e36da7d4c5a"
      },
      "execution_count": 4,
      "outputs": [
        {
          "output_type": "stream",
          "name": "stdout",
          "text": [
            "+---------+----------+\n",
            "|   Season|TotalGoals|\n",
            "+---------+----------+\n",
            "|2011-2012|    1066.0|\n",
            "+---------+----------+\n",
            "\n"
          ]
        }
      ]
    },
    {
      "cell_type": "code",
      "source": [
        "season_goals_low = season_goals.orderBy(col(\"TotalGoals\").asc()).limit(1)"
      ],
      "metadata": {
        "id": "2ygGl8IXcDhk"
      },
      "execution_count": 5,
      "outputs": []
    },
    {
      "cell_type": "code",
      "source": [
        "# 4. Team with Highest Average Goals per Season\n",
        "home_goals = df.groupBy(\"home_team\").agg(_sum(\"home_goals\").alias(\"HomeGoals\"))\n",
        "away_goals = df.groupBy(\"away_team\").agg(_sum(\"away_goals\").alias(\"AwayGoals\"))\n",
        "\n",
        "# Rename for join\n",
        "home_goals = home_goals.withColumnRenamed(\"home_team\", \"Team\")\n",
        "away_goals = away_goals.withColumnRenamed(\"away_team\", \"Team\")\n",
        "\n",
        "# Combine home and away goals\n",
        "team_goals = home_goals.join(away_goals, \"Team\", \"outer\").na.fill(0)\n",
        "team_goals = team_goals.withColumn(\"TotalGoals\", col(\"HomeGoals\") + col(\"AwayGoals\"))\n",
        "\n",
        "# Count number of seasons each team has played\n",
        "team_seasons = df.select(\"season\", \"home_team\").union(df.select(\"season\", \"away_team\")) \\\n",
        "                 .dropDuplicates() \\\n",
        "                 .groupBy(\"home_team\").agg(count(\"*\").alias(\"Seasons\"))\n",
        "\n",
        "# Rename for join\n",
        "team_seasons = team_seasons.withColumnRenamed(\"home_team\", \"Team\")\n",
        "\n",
        "# Calculate average goals\n",
        "team_avg_goals = team_goals.join(team_seasons, \"Team\")\n",
        "team_avg_goals = team_avg_goals.withColumn(\"AvgGoalsPerSeason\", col(\"TotalGoals\") / col(\"Seasons\"))\n",
        "\n",
        "# Get team with highest average goals per season\n",
        "team_avg_top = team_avg_goals.orderBy(col(\"AvgGoalsPerSeason\").desc()).limit(1)\n",
        "\n",
        "# >>> Show the output <<<\n",
        "team_avg_top.show(truncate=False)\n"
      ],
      "metadata": {
        "id": "ERURXcmkcSX8",
        "colab": {
          "base_uri": "https://localhost:8080/"
        },
        "outputId": "1b9b474c-48b0-4567-8ad3-4243023a90fa"
      },
      "execution_count": 8,
      "outputs": [
        {
          "output_type": "stream",
          "name": "stdout",
          "text": [
            "+-----------------+---------+---------+----------+-------+-----------------+\n",
            "|Team             |HomeGoals|AwayGoals|TotalGoals|Seasons|AvgGoalsPerSeason|\n",
            "+-----------------+---------+---------+----------+-------+-----------------+\n",
            "|Manchester United|495.0    |372.0    |867.0     |12     |72.25            |\n",
            "+-----------------+---------+---------+----------+-------+-----------------+\n",
            "\n"
          ]
        }
      ]
    },
    {
      "cell_type": "code",
      "source": [
        "# 5. Manchester United Probabilities\n",
        "mu_matches = df.filter((col(\"home_team\") == \"Manchester United\") | (col(\"away_team\") == \"Manchester United\"))\n",
        "\n",
        "mu_results = mu_matches.withColumn(\"Result\",\n",
        "    when((col(\"home_team\") == \"Manchester United\") & (col(\"result\") == \"H\"), \"Win\")\n",
        "    .when((col(\"away_team\") == \"Manchester United\") & (col(\"result\") == \"A\"), \"Win\")\n",
        "    .when(col(\"result\") == \"D\", \"Draw\")\n",
        "    .otherwise(\"Lose\")\n",
        ")\n",
        "\n",
        "total_games = mu_results.count()\n",
        "result_counts = mu_results.groupBy(\"Result\").agg(count(\"*\").alias(\"Count\"))\n",
        "result_probs = result_counts.withColumn(\"Probability\", col(\"Count\") / total_games)\n",
        "\n",
        "# Display All\n",
        "print(\"\\n=== Season with Least Goals ===\")\n",
        "season_goals_low.show()\n",
        "\n",
        "print(\"\\n=== Manchester United Match Result Probabilities ===\")\n",
        "result_probs.show()"
      ],
      "metadata": {
        "colab": {
          "base_uri": "https://localhost:8080/"
        },
        "id": "WV8pN0M3dzA-",
        "outputId": "750f19eb-96f5-443c-81ab-121d458cc220"
      },
      "execution_count": 7,
      "outputs": [
        {
          "output_type": "stream",
          "name": "stdout",
          "text": [
            "\n",
            "=== Season with Least Goals ===\n",
            "+---------+----------+\n",
            "|   Season|TotalGoals|\n",
            "+---------+----------+\n",
            "|2006-2007|     931.0|\n",
            "+---------+----------+\n",
            "\n",
            "\n",
            "=== Manchester United Match Result Probabilities ===\n",
            "+------+-----+-------------------+\n",
            "|Result|Count|        Probability|\n",
            "+------+-----+-------------------+\n",
            "|   Win|  290| 0.6359649122807017|\n",
            "|  Draw|   89|0.19517543859649122|\n",
            "|  Lose|   77|0.16885964912280702|\n",
            "+------+-----+-------------------+\n",
            "\n"
          ]
        }
      ]
    }
  ],
  "metadata": {
    "colab": {
      "provenance": []
    },
    "kernelspec": {
      "display_name": "Python 3",
      "name": "python3"
    }
  },
  "nbformat": 4,
  "nbformat_minor": 0
}