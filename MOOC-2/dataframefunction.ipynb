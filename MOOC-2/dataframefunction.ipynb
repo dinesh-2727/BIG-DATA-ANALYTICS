{
  "nbformat": 4,
  "nbformat_minor": 0,
  "metadata": {
    "colab": {
      "provenance": []
    },
    "kernelspec": {
      "name": "python3",
      "display_name": "Python 3"
    },
    "language_info": {
      "name": "python"
    }
  },
  "cells": [
    {
      "cell_type": "code",
      "source": [
        "\n",
        "from pyspark.sql import SparkSession\n",
        "import pyspark.sql.functions as F\n"
      ],
      "metadata": {
        "id": "cacA3niGtgMQ"
      },
      "execution_count": null,
      "outputs": []
    },
    {
      "cell_type": "code",
      "source": [
        "spark = SparkSession.builder.appName(\"Football DataFrame Operations\").getOrCreate()\n"
      ],
      "metadata": {
        "id": "Gte1DO9JtvI-"
      },
      "execution_count": null,
      "outputs": []
    },
    {
      "cell_type": "code",
      "source": [
        "# url = 'https://raw.githubusercontent.com/footballcsv/world/main/WorldCup.csv' # Original URL\n",
        "# football_df = spark.read.csv(url, header=True, inferSchema=True) # Original code\n",
        "\n",
        "# Reading from a sample CSV file available in the Colab environment\n",
        "football_df = spark.read.csv(\"/content/nl.1.csv\", header=True, inferSchema=True)\n",
        "football_df.show(10)"
      ],
      "metadata": {
        "colab": {
          "base_uri": "https://localhost:8080/"
        },
        "id": "9tKeLoM_tsGu",
        "outputId": "15d9cc76-744c-4bc4-ddcd-a9d54cd3251a"
      },
      "execution_count": null,
      "outputs": [
        {
          "output_type": "stream",
          "name": "stdout",
          "text": [
            "+-----+--------------+-------------------+---+-----------------+\n",
            "|Round|          Date|             Team 1| FT|           Team 2|\n",
            "+-----+--------------+-------------------+---+-----------------+\n",
            "|    1|Fri Aug 2 2019|         PEC Zwolle|1-3|Willem II Tilburg|\n",
            "|    1|Sat Aug 3 2019|     Vitesse Arnhem|2-2|   Ajax Amsterdam|\n",
            "|    1|Sat Aug 3 2019|           FC Emmen|0-1|     FC Groningen|\n",
            "|    1|Sat Aug 3 2019|          VVV Venlo|3-1|     RKC Waalwijk|\n",
            "|    1|Sat Aug 3 2019|          FC Twente|1-1|    PSV Eindhoven|\n",
            "|    1|Sun Aug 4 2019|    Heracles Almelo|0-4|    SC Heerenveen|\n",
            "|    1|Sun Aug 4 2019|Feyenoord Rotterdam|2-2| Sparta Rotterdam|\n",
            "|    1|Sun Aug 4 2019|       ADO Den Haag|2-4|       FC Utrecht|\n",
            "|    1|Sun Aug 4 2019|         AZ Alkmaar|4-0|  Fortuna Sittard|\n",
            "|    2|Fri Aug 9 2019|   Sparta Rotterdam|4-1|        VVV Venlo|\n",
            "+-----+--------------+-------------------+---+-----------------+\n",
            "only showing top 10 rows\n",
            "\n"
          ]
        }
      ]
    },
    {
      "cell_type": "code",
      "source": [
        "football_df.createOrReplaceTempView('football_table')\n"
      ],
      "metadata": {
        "id": "RjCVgf5euwI5"
      },
      "execution_count": 11,
      "outputs": []
    },
    {
      "cell_type": "code",
      "metadata": {
        "colab": {
          "base_uri": "https://localhost:8080/"
        },
        "id": "fea0bf08",
        "outputId": "d1238a6e-bf73-4578-b751-120fde07be46"
      },
      "source": [
        "# Reading from a sample CSV file available in the Colab environment\n",
        "football_df = spark.read.csv(\"/content/nl.1.csv\", header=True, inferSchema=True)\n",
        "football_df.show(10)\n",
        "\n",
        "# Create a temporary view\n",
        "football_df.createOrReplaceTempView('football_table')"
      ],
      "execution_count": 12,
      "outputs": [
        {
          "output_type": "stream",
          "name": "stdout",
          "text": [
            "+-----+---------------+----------------+---+-------------------+\n",
            "|Round|           Date|          Team 1| FT|             Team 2|\n",
            "+-----+---------------+----------------+---+-------------------+\n",
            "|    1|Sat Sep 12 2020|   SC Heerenveen|2-0|  Willem II Tilburg|\n",
            "|    1|Sat Sep 12 2020|      PEC Zwolle|0-2|Feyenoord Rotterdam|\n",
            "|    1|Sat Sep 12 2020|       FC Twente|2-0|    Fortuna Sittard|\n",
            "|    1|Sun Sep 13 2020|        FC Emmen|3-5|          VVV Venlo|\n",
            "|    1|Sun Sep 13 2020| Heracles Almelo|2-0|       ADO Den Haag|\n",
            "|    1|Sun Sep 13 2020|Sparta Rotterdam|0-1|     Ajax Amsterdam|\n",
            "|    1|Sun Sep 13 2020|    RKC Waalwijk|0-1|     Vitesse Arnhem|\n",
            "|    1|Sun Sep 13 2020|    FC Groningen|1-3|      PSV Eindhoven|\n",
            "|    2|Fri Sep 18 2020|       VVV Venlo|1-1|         FC Utrecht|\n",
            "|    2|Sat Sep 19 2020|      AZ Alkmaar|1-1|         PEC Zwolle|\n",
            "+-----+---------------+----------------+---+-------------------+\n",
            "only showing top 10 rows\n",
            "\n"
          ]
        }
      ]
    },
    {
      "cell_type": "code",
      "metadata": {
        "colab": {
          "base_uri": "https://localhost:8080/"
        },
        "id": "f44d7b61",
        "outputId": "5515ffb1-ca9e-4895-efa0-bca01ecd630c"
      },
      "source": [
        "from pyspark.sql import SparkSession\n",
        "\n",
        "# Initialize SparkSession\n",
        "spark = SparkSession.builder.appName(\"Football DataFrame Operations\").getOrCreate()\n",
        "\n",
        "# Reading from a sample CSV file available in the Colab environment\n",
        "football_df = spark.read.csv(\"nl.1.csv\", header=True, inferSchema=True)\n",
        "football_df.show(10)\n",
        "\n",
        "# Create a temporary view\n",
        "football_df.createOrReplaceTempView('football_table')"
      ],
      "execution_count": 5,
      "outputs": [
        {
          "output_type": "stream",
          "name": "stdout",
          "text": [
            "+-----+---------------+----------------+---+-------------------+\n",
            "|Round|           Date|          Team 1| FT|             Team 2|\n",
            "+-----+---------------+----------------+---+-------------------+\n",
            "|    1|Sat Sep 12 2020|   SC Heerenveen|2-0|  Willem II Tilburg|\n",
            "|    1|Sat Sep 12 2020|      PEC Zwolle|0-2|Feyenoord Rotterdam|\n",
            "|    1|Sat Sep 12 2020|       FC Twente|2-0|    Fortuna Sittard|\n",
            "|    1|Sun Sep 13 2020|        FC Emmen|3-5|          VVV Venlo|\n",
            "|    1|Sun Sep 13 2020| Heracles Almelo|2-0|       ADO Den Haag|\n",
            "|    1|Sun Sep 13 2020|Sparta Rotterdam|0-1|     Ajax Amsterdam|\n",
            "|    1|Sun Sep 13 2020|    RKC Waalwijk|0-1|     Vitesse Arnhem|\n",
            "|    1|Sun Sep 13 2020|    FC Groningen|1-3|      PSV Eindhoven|\n",
            "|    2|Fri Sep 18 2020|       VVV Venlo|1-1|         FC Utrecht|\n",
            "|    2|Sat Sep 19 2020|      AZ Alkmaar|1-1|         PEC Zwolle|\n",
            "+-----+---------------+----------------+---+-------------------+\n",
            "only showing top 10 rows\n",
            "\n"
          ]
        }
      ]
    },
    {
      "cell_type": "code",
      "metadata": {
        "colab": {
          "base_uri": "https://localhost:8080/"
        },
        "id": "7d2f4a82",
        "outputId": "1090a455-4fed-441b-f6a8-0c7d09c51963"
      },
      "source": [
        "import pyspark.sql.functions as F\n",
        "\n",
        "# Split the 'FT' column into home and away goals and convert them to integers\n",
        "football_df = football_df.withColumn('HomeGoals', F.split(football_df['FT'], '-').getItem(0).cast('int'))\n",
        "football_df = football_df.withColumn('AwayGoals', F.split(football_df['FT'], '-').getItem(1).cast('int'))\n",
        "\n",
        "# Calculate the total goals\n",
        "football_df = football_df.withColumn('TotalGoals', football_df['HomeGoals'] + football_df['AwayGoals'])\n",
        "\n",
        "# Create or replace the temporary view with the updated DataFrame\n",
        "football_df.createOrReplaceTempView('football_table')\n",
        "\n",
        "# Now, filter the table where the total goals are less than 5\n",
        "high_goals_df = spark.sql('SELECT * FROM football_table WHERE TotalGoals < 5')\n",
        "high_goals_df.show(10)"
      ],
      "execution_count": 16,
      "outputs": [
        {
          "output_type": "stream",
          "name": "stdout",
          "text": [
            "+-----+---------------+----------------+---+-------------------+---------+---------+----------+\n",
            "|Round|           Date|          Team 1| FT|             Team 2|HomeGoals|AwayGoals|TotalGoals|\n",
            "+-----+---------------+----------------+---+-------------------+---------+---------+----------+\n",
            "|    1|Sat Sep 12 2020|   SC Heerenveen|2-0|  Willem II Tilburg|        2|        0|         2|\n",
            "|    1|Sat Sep 12 2020|      PEC Zwolle|0-2|Feyenoord Rotterdam|        0|        2|         2|\n",
            "|    1|Sat Sep 12 2020|       FC Twente|2-0|    Fortuna Sittard|        2|        0|         2|\n",
            "|    1|Sun Sep 13 2020| Heracles Almelo|2-0|       ADO Den Haag|        2|        0|         2|\n",
            "|    1|Sun Sep 13 2020|Sparta Rotterdam|0-1|     Ajax Amsterdam|        0|        1|         1|\n",
            "|    1|Sun Sep 13 2020|    RKC Waalwijk|0-1|     Vitesse Arnhem|        0|        1|         1|\n",
            "|    1|Sun Sep 13 2020|    FC Groningen|1-3|      PSV Eindhoven|        1|        3|         4|\n",
            "|    2|Fri Sep 18 2020|       VVV Venlo|1-1|         FC Utrecht|        1|        1|         2|\n",
            "|    2|Sat Sep 19 2020|      AZ Alkmaar|1-1|         PEC Zwolle|        1|        1|         2|\n",
            "|    2|Sat Sep 19 2020|  Vitesse Arnhem|2-0|   Sparta Rotterdam|        2|        0|         2|\n",
            "+-----+---------------+----------------+---+-------------------+---------+---------+----------+\n",
            "only showing top 10 rows\n",
            "\n"
          ]
        }
      ]
    },
    {
      "cell_type": "code",
      "metadata": {
        "colab": {
          "base_uri": "https://localhost:8080/"
        },
        "id": "a29dc8a0",
        "outputId": "c6ce806f-17a0-4585-889c-b1c8cc4c7d99"
      },
      "source": [
        "import pyspark.sql.functions as F\n",
        "\n",
        "# Split the 'FT' column into home and away goals and convert them to integers\n",
        "football_df = football_df.withColumn('HomeGoals', F.split(football_df['FT'], '-').getItem(0).cast('int'))\n",
        "football_df = football_df.withColumn('AwayGoals', F.split(football_df['FT'], '-').getItem(1).cast('int'))\n",
        "\n",
        "# Calculate the total goals\n",
        "football_df = football_df.withColumn('TotalGoals', football_df['HomeGoals'] + football_df['AwayGoals'])\n",
        "\n",
        "# Create or replace the temporary view with the updated DataFrame\n",
        "football_df.createOrReplaceTempView('football_table')\n",
        "\n",
        "# Now, filter the table where the total goals are less than 5\n",
        "high_goals_df = spark.sql('SELECT * FROM football_table WHERE TotalGoals < 5')\n",
        "high_goals_df.show(10)"
      ],
      "execution_count": 9,
      "outputs": [
        {
          "output_type": "stream",
          "name": "stdout",
          "text": [
            "+-----+---------------+----------------+---+-------------------+---------+---------+----------+\n",
            "|Round|           Date|          Team 1| FT|             Team 2|HomeGoals|AwayGoals|TotalGoals|\n",
            "+-----+---------------+----------------+---+-------------------+---------+---------+----------+\n",
            "|    1|Sat Sep 12 2020|   SC Heerenveen|2-0|  Willem II Tilburg|        2|        0|         2|\n",
            "|    1|Sat Sep 12 2020|      PEC Zwolle|0-2|Feyenoord Rotterdam|        0|        2|         2|\n",
            "|    1|Sat Sep 12 2020|       FC Twente|2-0|    Fortuna Sittard|        2|        0|         2|\n",
            "|    1|Sun Sep 13 2020| Heracles Almelo|2-0|       ADO Den Haag|        2|        0|         2|\n",
            "|    1|Sun Sep 13 2020|Sparta Rotterdam|0-1|     Ajax Amsterdam|        0|        1|         1|\n",
            "|    1|Sun Sep 13 2020|    RKC Waalwijk|0-1|     Vitesse Arnhem|        0|        1|         1|\n",
            "|    1|Sun Sep 13 2020|    FC Groningen|1-3|      PSV Eindhoven|        1|        3|         4|\n",
            "|    2|Fri Sep 18 2020|       VVV Venlo|1-1|         FC Utrecht|        1|        1|         2|\n",
            "|    2|Sat Sep 19 2020|      AZ Alkmaar|1-1|         PEC Zwolle|        1|        1|         2|\n",
            "|    2|Sat Sep 19 2020|  Vitesse Arnhem|2-0|   Sparta Rotterdam|        2|        0|         2|\n",
            "+-----+---------------+----------------+---+-------------------+---------+---------+----------+\n",
            "only showing top 10 rows\n",
            "\n"
          ]
        }
      ]
    },
    {
      "cell_type": "code",
      "source": [
        "football_df = football_df.select('Round','Team 1','FT','Team 2')\n",
        "football_df = football_df.withColumnRenamed('Round','Year').withColumnRenamed('Team 1','Team').withColumnRenamed('FT','Goals').withColumnRenamed('Team 2','Opponent')\n",
        "football_df = football_df.withColumnRenamed('Goals','GoalsScored')\n",
        "football_df.sort(F.desc('GoalsScored')).show(10)"
      ],
      "metadata": {
        "colab": {
          "base_uri": "https://localhost:8080/"
        },
        "id": "q0dLiifdvKY2",
        "outputId": "38129be3-e05c-46f0-d084-17d35e22b044"
      },
      "execution_count": null,
      "outputs": [
        {
          "output_type": "stream",
          "name": "stdout",
          "text": [
            "+----+-------------------+-----------+----------------+\n",
            "|Year|               Team|GoalsScored|        Opponent|\n",
            "+----+-------------------+-----------+----------------+\n",
            "|   6|         PEC Zwolle|        6-2|    RKC Waalwijk|\n",
            "|  13|    Heracles Almelo|        6-1|       VVV Venlo|\n",
            "|  18|     Ajax Amsterdam|        6-1|    ADO Den Haag|\n",
            "|  12|         FC Utrecht|        6-0| Fortuna Sittard|\n",
            "|   8|Feyenoord Rotterdam|        5-1|       FC Twente|\n",
            "|   6|         AZ Alkmaar|        5-1|Sparta Rotterdam|\n",
            "|  25|   Sparta Rotterdam|        5-1|        FC Emmen|\n",
            "|  26|         FC Utrecht|        5-1|Sparta Rotterdam|\n",
            "|  16|      PSV Eindhoven|        5-0| Fortuna Sittard|\n",
            "|   6|      PSV Eindhoven|        5-0|  Vitesse Arnhem|\n",
            "+----+-------------------+-----------+----------------+\n",
            "only showing top 10 rows\n",
            "\n"
          ]
        }
      ]
    },
    {
      "cell_type": "code",
      "source": [
        "football_df.groupBy('Team').agg(F.sum('GoalsScored').alias('TotalGoals'), F.max('GoalsScored').alias('MaxGoals')).show(10)\n"
      ],
      "metadata": {
        "colab": {
          "base_uri": "https://localhost:8080/"
        },
        "id": "ZBwSOlM_vVKd",
        "outputId": "a2fec282-d35e-477b-d777-eefd0da28f73"
      },
      "execution_count": null,
      "outputs": [
        {
          "output_type": "stream",
          "name": "stdout",
          "text": [
            "+-------------------+----------+--------+\n",
            "|               Team|TotalGoals|MaxGoals|\n",
            "+-------------------+----------+--------+\n",
            "|       ADO Den Haag|      NULL|     3-3|\n",
            "|         AZ Alkmaar|      NULL|     5-1|\n",
            "|     Ajax Amsterdam|      NULL|     6-1|\n",
            "|           FC Emmen|      NULL|     4-2|\n",
            "|       FC Groningen|      NULL|     3-0|\n",
            "|          FC Twente|      NULL|     4-1|\n",
            "|         FC Utrecht|      NULL|     6-0|\n",
            "|Feyenoord Rotterdam|      NULL|     5-1|\n",
            "|    Fortuna Sittard|      NULL|     4-2|\n",
            "|    Heracles Almelo|      NULL|     6-1|\n",
            "+-------------------+----------+--------+\n",
            "only showing top 10 rows\n",
            "\n"
          ]
        }
      ]
    }
  ]
}