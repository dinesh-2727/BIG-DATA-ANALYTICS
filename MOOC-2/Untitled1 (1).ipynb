{
  "nbformat": 4,
  "nbformat_minor": 0,
  "metadata": {
    "colab": {
      "provenance": []
    },
    "kernelspec": {
      "name": "python3",
      "display_name": "Python 3"
    },
    "language_info": {
      "name": "python"
    }
  },
  "cells": [
    {
      "cell_type": "code",
      "source": [
        "from pyspark.sql import SparkSession\n",
        "import pyspark.sql.functions as F\n",
        "from pyspark.sql.window import Window\n"
      ],
      "metadata": {
        "id": "zZGaP3bawTxD"
      },
      "execution_count": 34,
      "outputs": []
    },
    {
      "cell_type": "code",
      "source": [
        "spark = SparkSession.builder.appName(\"Football Window Functions\").getOrCreate()\n"
      ],
      "metadata": {
        "id": "RA6DiZGZwYsS"
      },
      "execution_count": 35,
      "outputs": []
    },
    {
      "cell_type": "code",
      "source": [
        "# url = 'https://raw.githubusercontent.com/footballcsv/world/main/WorldCup.csv' # Original URL\n",
        "# football_df = spark.read.csv(url, header=True, inferSchema=True) # Original code\n",
        "\n",
        "# Reading from a sample CSV file available in the Colab environment\n",
        "football_df = spark.read.csv(\"/content/nl.1.csv\", header=True, inferSchema=True)\n",
        "football_df.show(10)\n",
        "football_df.createOrReplaceTempView('football_table')"
      ],
      "metadata": {
        "colab": {
          "base_uri": "https://localhost:8080/"
        },
        "id": "ePdBFVttwd_v",
        "outputId": "7d4f0873-e4b5-4cab-b780-5d48fc5ea580"
      },
      "execution_count": 37,
      "outputs": [
        {
          "output_type": "stream",
          "name": "stdout",
          "text": [
            "+-----+--------------+-------------------+---+-----------------+\n",
            "|Round|          Date|             Team 1| FT|           Team 2|\n",
            "+-----+--------------+-------------------+---+-----------------+\n",
            "|    1|Fri Aug 2 2019|         PEC Zwolle|1-3|Willem II Tilburg|\n",
            "|    1|Sat Aug 3 2019|     Vitesse Arnhem|2-2|   Ajax Amsterdam|\n",
            "|    1|Sat Aug 3 2019|           FC Emmen|0-1|     FC Groningen|\n",
            "|    1|Sat Aug 3 2019|          VVV Venlo|3-1|     RKC Waalwijk|\n",
            "|    1|Sat Aug 3 2019|          FC Twente|1-1|    PSV Eindhoven|\n",
            "|    1|Sun Aug 4 2019|    Heracles Almelo|0-4|    SC Heerenveen|\n",
            "|    1|Sun Aug 4 2019|Feyenoord Rotterdam|2-2| Sparta Rotterdam|\n",
            "|    1|Sun Aug 4 2019|       ADO Den Haag|2-4|       FC Utrecht|\n",
            "|    1|Sun Aug 4 2019|         AZ Alkmaar|4-0|  Fortuna Sittard|\n",
            "|    2|Fri Aug 9 2019|   Sparta Rotterdam|4-1|        VVV Venlo|\n",
            "+-----+--------------+-------------------+---+-----------------+\n",
            "only showing top 10 rows\n",
            "\n"
          ]
        }
      ]
    },
    {
      "cell_type": "code",
      "source": [
        "# Drop any potentially ambiguous 'Goals' columns that might exist from previous steps\n",
        "football_df = football_df.drop('Goals')\n",
        "\n",
        "# Re-extract Year from Date and HomeGoals from FT within this cell\n",
        "from pyspark.sql.types import IntegerType\n",
        "spark.conf.set(\"spark.sql.legacy.timeParserPolicy\", \"LEGACY\") # Ensure date parsing works\n",
        "football_df = football_df.withColumn('Year', F.year(F.to_date('Date', 'EEE MMM d yyyy')))\n",
        "football_df = football_df.withColumn('HomeGoals', F.split(football_df['FT'], '-').getItem(0).cast(IntegerType()))\n",
        "\n",
        "# Rename HomeGoals to Goals for use in the window function\n",
        "football_df_cleaned = football_df.withColumnRenamed('HomeGoals', 'Goals')\n",
        "\n",
        "# Select necessary columns for the window function\n",
        "football_df_cleaned = football_df_cleaned.select('Round', 'Date', 'Team 1', 'FT', 'Team 2', 'Year', 'Goals', 'AwayGoals')\n",
        "\n",
        "\n",
        "windowSpec = Window.partitionBy('Year').orderBy(F.desc('Goals'))\n",
        "# Apply window function on the cleaned DataFrame\n",
        "football_ranked = football_df_cleaned.withColumn('Rank', F.rank().over(windowSpec))\n",
        "football_ranked.show(10)"
      ],
      "metadata": {
        "colab": {
          "base_uri": "https://localhost:8080/"
        },
        "id": "sdOl1QoYxo3_",
        "outputId": "93f86d63-7a48-43c1-cabf-398ffb636e1d"
      },
      "execution_count": 48,
      "outputs": [
        {
          "output_type": "stream",
          "name": "stdout",
          "text": [
            "+-----+---------------+-------------------+---+----------------+----+-----+---------+----+\n",
            "|Round|           Date|             Team 1| FT|          Team 2|Year|Goals|AwayGoals|Rank|\n",
            "+-----+---------------+-------------------+---+----------------+----+-----+---------+----+\n",
            "|    6|Sun Sep 15 2019|         PEC Zwolle|6-2|    RKC Waalwijk|2019|    6|        2|   1|\n",
            "|   12| Sun Nov 3 2019|         FC Utrecht|6-0| Fortuna Sittard|2019|    6|        0|   1|\n",
            "|   13| Sat Nov 9 2019|    Heracles Almelo|6-1|       VVV Venlo|2019|    6|        1|   1|\n",
            "|   18|Sun Dec 22 2019|     Ajax Amsterdam|6-1|    ADO Den Haag|2019|    6|        1|   1|\n",
            "|    2|Sat Aug 10 2019|     Ajax Amsterdam|5-0|        FC Emmen|2019|    5|        0|   5|\n",
            "|    6|Sat Sep 14 2019|         AZ Alkmaar|5-1|Sparta Rotterdam|2019|    5|        1|   5|\n",
            "|    6|Sat Sep 14 2019|      PSV Eindhoven|5-0|  Vitesse Arnhem|2019|    5|        0|   5|\n",
            "|    4|Wed Sep 25 2019|     Ajax Amsterdam|5-0| Fortuna Sittard|2019|    5|        0|   5|\n",
            "|    8|Sun Sep 29 2019|Feyenoord Rotterdam|5-1|       FC Twente|2019|    5|        1|   5|\n",
            "|   16| Sat Dec 7 2019|      PSV Eindhoven|5-0| Fortuna Sittard|2019|    5|        0|   5|\n",
            "+-----+---------------+-------------------+---+----------------+----+-----+---------+----+\n",
            "only showing top 10 rows\n",
            "\n"
          ]
        }
      ]
    },
    {
      "cell_type": "code",
      "source": [
        "from pyspark.sql.types import IntegerType\n",
        "\n",
        "# Ensure legacy time parser policy is set\n",
        "spark.conf.set(\"spark.sql.legacy.timeParserPolicy\", \"LEGACY\")\n",
        "\n",
        "# Re-extract Year from Date and HomeGoals/AwayGoals from FT within this cell\n",
        "football_df_cumulative = football_df.withColumn('Year', F.year(F.to_date('Date', 'EEE MMM d yyyy')))\n",
        "football_df_cumulative = football_df_cumulative.withColumn('HomeGoals', F.split(football_df_cumulative['FT'], '-').getItem(0).cast(IntegerType()))\n",
        "football_df_cumulative = football_df_cumulative.withColumn('AwayGoals', F.split(football_df_cumulative['FT'], '-').getItem(1).cast(IntegerType()))\n",
        "\n",
        "# Rename HomeGoals to Goals for use in the window function for cumulative home goals\n",
        "football_df_cumulative = football_df_cumulative.withColumnRenamed('HomeGoals', 'Goals')\n",
        "\n",
        "# Define the window specification: partition by Team 1, order by Year and Date for cumulative sum\n",
        "windowSpec2 = Window.partitionBy('Team 1').orderBy('Year', 'Date').rowsBetween(Window.unboundedPreceding, Window.currentRow)\n",
        "\n",
        "# Apply window function to calculate cumulative goals (home goals for Team 1)\n",
        "football_cumulative = football_df_cumulative.withColumn('CumulativeGoals', F.sum('Goals').over(windowSpec2))\n",
        "\n",
        "football_cumulative.show(10)"
      ],
      "metadata": {
        "colab": {
          "base_uri": "https://localhost:8080/"
        },
        "id": "L5hQbwvGx97K",
        "outputId": "d5f861d2-4596-4e67-d593-44b992e465d8"
      },
      "execution_count": 50,
      "outputs": [
        {
          "output_type": "stream",
          "name": "stdout",
          "text": [
            "+-----+---------------+------------+----+-----------------+----+---------+-----+---------------+\n",
            "|Round|           Date|      Team 1|  FT|           Team 2|Year|AwayGoals|Goals|CumulativeGoals|\n",
            "+-----+---------------+------------+----+-----------------+----+---------+-----+---------------+\n",
            "|    3|Sat Aug 17 2019|ADO Den Haag| 1-2| Sparta Rotterdam|2019|        2|    1|              1|\n",
            "|    5|Sat Aug 31 2019|ADO Den Haag| 1-0|        VVV Venlo|2019|        0|    1|              2|\n",
            "|   17|Sat Dec 14 2019|ADO Den Haag| 1-1|     FC Groningen|2019|        1|    1|              3|\n",
            "|   16| Sat Dec 7 2019|ADO Den Haag| 0-0|        FC Twente|2019|        0|    0|              3|\n",
            "|   14|Sat Nov 23 2019|ADO Den Haag| 3-3|Willem II Tilburg|2019|        3|    3|              6|\n",
            "|    1| Sun Aug 4 2019|ADO Den Haag| 2-4|       FC Utrecht|2019|        4|    2|              8|\n",
            "|   12| Sun Nov 3 2019|ADO Den Haag| 1-1|    SC Heerenveen|2019|        1|    1|              9|\n",
            "|    9| Sun Oct 6 2019|ADO Den Haag| 0-2|   Ajax Amsterdam|2019|        2|    0|              9|\n",
            "|    7|Sun Sep 22 2019|ADO Den Haag| 0-1|       AZ Alkmaar|2019|        1|    0|              9|\n",
            "|   27|Fri Mar 13 2020|ADO Den Haag|NULL|  Fortuna Sittard|2020|     NULL| NULL|              9|\n",
            "+-----+---------------+------------+----+-----------------+----+---------+-----+---------------+\n",
            "only showing top 10 rows\n",
            "\n"
          ]
        }
      ]
    },
    {
      "cell_type": "code",
      "source": [
        "spark.conf.set(\"spark.sql.legacy.timeParserPolicy\", \"LEGACY\") # Ensure date parsing works in SQL\n",
        "query = '''\n",
        "SELECT *,\n",
        "       YEAR(TO_DATE(Date, 'EEE MMM d yyyy')) as Year,\n",
        "       CAST(SPLIT(FT, '-')[0] AS INT) as HomeGoals,\n",
        "       LAG(CAST(SPLIT(FT, '-')[0] AS INT), 1) OVER(PARTITION BY \"Team 1\" ORDER BY YEAR(TO_DATE(Date, 'EEE MMM d yyyy'))) as PrevHomeGoals,\n",
        "       LEAD(CAST(SPLIT(FT, '-')[0] AS INT), 1) OVER(PARTITION BY \"Team 1\" ORDER BY YEAR(TO_DATE(Date, 'EEE MMM d yyyy'))) as NextHomeGoals\n",
        "FROM football_table\n",
        "'''\n",
        "football_lag_lead = spark.sql(query)\n",
        "football_lag_lead.show(10)"
      ],
      "metadata": {
        "colab": {
          "base_uri": "https://localhost:8080/"
        },
        "id": "fq-xvR1pzKdk",
        "outputId": "d43a2e9a-5a14-4627-fcc1-b250c966d9dd"
      },
      "execution_count": 54,
      "outputs": [
        {
          "output_type": "stream",
          "name": "stdout",
          "text": [
            "+-----+--------------+-------------------+---+-----------------+----+---------+---------+----+---------+-------------+-------------+\n",
            "|Round|          Date|             Team 1| FT|           Team 2|Year|AwayGoals|HomeGoals|Year|HomeGoals|PrevHomeGoals|NextHomeGoals|\n",
            "+-----+--------------+-------------------+---+-----------------+----+---------+---------+----+---------+-------------+-------------+\n",
            "|    1|Fri Aug 2 2019|         PEC Zwolle|1-3|Willem II Tilburg|2019|        3|        1|2019|        1|         NULL|            2|\n",
            "|    1|Sat Aug 3 2019|     Vitesse Arnhem|2-2|   Ajax Amsterdam|2019|        2|        2|2019|        2|            1|            0|\n",
            "|    1|Sat Aug 3 2019|           FC Emmen|0-1|     FC Groningen|2019|        1|        0|2019|        0|            2|            3|\n",
            "|    1|Sat Aug 3 2019|          VVV Venlo|3-1|     RKC Waalwijk|2019|        1|        3|2019|        3|            0|            1|\n",
            "|    1|Sat Aug 3 2019|          FC Twente|1-1|    PSV Eindhoven|2019|        1|        1|2019|        1|            3|            0|\n",
            "|    1|Sun Aug 4 2019|    Heracles Almelo|0-4|    SC Heerenveen|2019|        4|        0|2019|        0|            1|            2|\n",
            "|    1|Sun Aug 4 2019|Feyenoord Rotterdam|2-2| Sparta Rotterdam|2019|        2|        2|2019|        2|            0|            2|\n",
            "|    1|Sun Aug 4 2019|       ADO Den Haag|2-4|       FC Utrecht|2019|        4|        2|2019|        2|            2|            4|\n",
            "|    1|Sun Aug 4 2019|         AZ Alkmaar|4-0|  Fortuna Sittard|2019|        0|        4|2019|        4|            2|            4|\n",
            "|    2|Fri Aug 9 2019|   Sparta Rotterdam|4-1|        VVV Venlo|2019|        1|        4|2019|        4|            4|            1|\n",
            "+-----+--------------+-------------------+---+-----------------+----+---------+---------+----+---------+-------------+-------------+\n",
            "only showing top 10 rows\n",
            "\n"
          ]
        }
      ]
    }
  ]
}